{
 "cells": [
  {
   "cell_type": "markdown",
   "metadata": {},
   "source": [
    "\n"
   ]
  },
  {
   "cell_type": "markdown",
   "metadata": {},
   "source": [
    "# IMPORT and standard tweaking"
   ]
  },
  {
   "cell_type": "code",
   "execution_count": 1,
   "metadata": {},
   "outputs": [],
   "source": [
    "import pandas as pd\n",
    "import numpy as np\n",
    "import matplotlib.pyplot as plt\n",
    "import seaborn as sns\n",
    "%matplotlib inline \n",
    "#visualization option"
   ]
  },
  {
   "cell_type": "code",
   "execution_count": 2,
   "metadata": {},
   "outputs": [],
   "source": [
    "# display all columns\n",
    "pd.set_option('display.max_columns', None)"
   ]
  },
  {
   "cell_type": "code",
   "execution_count": 3,
   "metadata": {},
   "outputs": [],
   "source": [
    "viral=pd.read_csv(r'data/analysis/viral_charts_songs_2017-2020.csv')"
   ]
  },
  {
   "cell_type": "code",
   "execution_count": 4,
   "metadata": {},
   "outputs": [
    {
     "data": {
      "text/html": [
       "<div>\n",
       "<style scoped>\n",
       "    .dataframe tbody tr th:only-of-type {\n",
       "        vertical-align: middle;\n",
       "    }\n",
       "\n",
       "    .dataframe tbody tr th {\n",
       "        vertical-align: top;\n",
       "    }\n",
       "\n",
       "    .dataframe thead th {\n",
       "        text-align: right;\n",
       "    }\n",
       "</style>\n",
       "<table border=\"1\" class=\"dataframe\">\n",
       "  <thead>\n",
       "    <tr style=\"text-align: right;\">\n",
       "      <th></th>\n",
       "      <th>Position</th>\n",
       "      <th>Track Name</th>\n",
       "      <th>Artist</th>\n",
       "      <th>URL</th>\n",
       "      <th>filename</th>\n",
       "      <th>ID</th>\n",
       "      <th>date</th>\n",
       "      <th>country</th>\n",
       "      <th>group</th>\n",
       "      <th>length</th>\n",
       "      <th>popularity</th>\n",
       "      <th>acousticness</th>\n",
       "      <th>danceability</th>\n",
       "      <th>energy</th>\n",
       "      <th>key</th>\n",
       "      <th>instrumentalness</th>\n",
       "      <th>liveness</th>\n",
       "      <th>loudness</th>\n",
       "      <th>mode</th>\n",
       "      <th>speechiness</th>\n",
       "      <th>valence</th>\n",
       "      <th>tempo</th>\n",
       "      <th>loud_start</th>\n",
       "    </tr>\n",
       "  </thead>\n",
       "  <tbody>\n",
       "    <tr>\n",
       "      <th>0</th>\n",
       "      <td>1</td>\n",
       "      <td>Sucker</td>\n",
       "      <td>Jonas Brothers</td>\n",
       "      <td>https://open.spotify.com/track/4y3OI86AEP6PQoD...</td>\n",
       "      <td>2019-03-27-in-viral.csv</td>\n",
       "      <td>4y3OI86AEP6PQoDE6olYhO</td>\n",
       "      <td>2019-03-27</td>\n",
       "      <td>in</td>\n",
       "      <td>viral</td>\n",
       "      <td>181040</td>\n",
       "      <td>9</td>\n",
       "      <td>0.0427</td>\n",
       "      <td>0.842</td>\n",
       "      <td>0.734</td>\n",
       "      <td>1</td>\n",
       "      <td>0.000000</td>\n",
       "      <td>0.1060</td>\n",
       "      <td>-5.065</td>\n",
       "      <td>0</td>\n",
       "      <td>0.0588</td>\n",
       "      <td>0.952</td>\n",
       "      <td>137.958</td>\n",
       "      <td>-11.142</td>\n",
       "    </tr>\n",
       "    <tr>\n",
       "      <th>1</th>\n",
       "      <td>2</td>\n",
       "      <td>Undrunk</td>\n",
       "      <td>FLETCHER</td>\n",
       "      <td>https://open.spotify.com/track/5SHhPFh68OhUmuR...</td>\n",
       "      <td>2019-03-27-in-viral.csv</td>\n",
       "      <td>5SHhPFh68OhUmuRPymKX9d</td>\n",
       "      <td>2019-03-27</td>\n",
       "      <td>in</td>\n",
       "      <td>viral</td>\n",
       "      <td>183428</td>\n",
       "      <td>0</td>\n",
       "      <td>0.4550</td>\n",
       "      <td>0.679</td>\n",
       "      <td>0.572</td>\n",
       "      <td>5</td>\n",
       "      <td>0.000002</td>\n",
       "      <td>0.1270</td>\n",
       "      <td>-6.703</td>\n",
       "      <td>1</td>\n",
       "      <td>0.0781</td>\n",
       "      <td>0.542</td>\n",
       "      <td>92.859</td>\n",
       "      <td>-8.190</td>\n",
       "    </tr>\n",
       "    <tr>\n",
       "      <th>2</th>\n",
       "      <td>3</td>\n",
       "      <td>Don't Call Me Up</td>\n",
       "      <td>Mabel</td>\n",
       "      <td>https://open.spotify.com/track/5WHTFyqSii0lmT9...</td>\n",
       "      <td>2019-03-27-in-viral.csv</td>\n",
       "      <td>5WHTFyqSii0lmT9R21abT8</td>\n",
       "      <td>2019-03-27</td>\n",
       "      <td>in</td>\n",
       "      <td>viral</td>\n",
       "      <td>178480</td>\n",
       "      <td>79</td>\n",
       "      <td>0.2960</td>\n",
       "      <td>0.674</td>\n",
       "      <td>0.881</td>\n",
       "      <td>9</td>\n",
       "      <td>0.000003</td>\n",
       "      <td>0.0793</td>\n",
       "      <td>-2.853</td>\n",
       "      <td>1</td>\n",
       "      <td>0.1470</td>\n",
       "      <td>0.234</td>\n",
       "      <td>98.994</td>\n",
       "      <td>-5.559</td>\n",
       "    </tr>\n",
       "    <tr>\n",
       "      <th>3</th>\n",
       "      <td>4</td>\n",
       "      <td>Moonlight</td>\n",
       "      <td>Gaullin</td>\n",
       "      <td>https://open.spotify.com/track/0A5gdlrpAuQqZ2i...</td>\n",
       "      <td>2019-03-27-in-viral.csv</td>\n",
       "      <td>0A5gdlrpAuQqZ2iFgnqBFW</td>\n",
       "      <td>2019-03-27</td>\n",
       "      <td>in</td>\n",
       "      <td>viral</td>\n",
       "      <td>173066</td>\n",
       "      <td>72</td>\n",
       "      <td>0.0529</td>\n",
       "      <td>0.813</td>\n",
       "      <td>0.761</td>\n",
       "      <td>10</td>\n",
       "      <td>0.011900</td>\n",
       "      <td>0.3370</td>\n",
       "      <td>-5.687</td>\n",
       "      <td>0</td>\n",
       "      <td>0.0850</td>\n",
       "      <td>0.290</td>\n",
       "      <td>124.957</td>\n",
       "      <td>-5.704</td>\n",
       "    </tr>\n",
       "    <tr>\n",
       "      <th>4</th>\n",
       "      <td>5</td>\n",
       "      <td>i'm so tired...</td>\n",
       "      <td>Lauv</td>\n",
       "      <td>https://open.spotify.com/track/7COXchtUOMd6uIT...</td>\n",
       "      <td>2019-03-27-in-viral.csv</td>\n",
       "      <td>7COXchtUOMd6uIT6HvmRaI</td>\n",
       "      <td>2019-03-27</td>\n",
       "      <td>in</td>\n",
       "      <td>viral</td>\n",
       "      <td>162582</td>\n",
       "      <td>13</td>\n",
       "      <td>0.1760</td>\n",
       "      <td>0.599</td>\n",
       "      <td>0.733</td>\n",
       "      <td>11</td>\n",
       "      <td>0.000000</td>\n",
       "      <td>0.2420</td>\n",
       "      <td>-7.058</td>\n",
       "      <td>1</td>\n",
       "      <td>0.2030</td>\n",
       "      <td>0.534</td>\n",
       "      <td>102.211</td>\n",
       "      <td>-12.880</td>\n",
       "    </tr>\n",
       "  </tbody>\n",
       "</table>\n",
       "</div>"
      ],
      "text/plain": [
       "   Position        Track Name          Artist  \\\n",
       "0         1            Sucker  Jonas Brothers   \n",
       "1         2           Undrunk        FLETCHER   \n",
       "2         3  Don't Call Me Up           Mabel   \n",
       "3         4         Moonlight         Gaullin   \n",
       "4         5   i'm so tired...            Lauv   \n",
       "\n",
       "                                                 URL                 filename  \\\n",
       "0  https://open.spotify.com/track/4y3OI86AEP6PQoD...  2019-03-27-in-viral.csv   \n",
       "1  https://open.spotify.com/track/5SHhPFh68OhUmuR...  2019-03-27-in-viral.csv   \n",
       "2  https://open.spotify.com/track/5WHTFyqSii0lmT9...  2019-03-27-in-viral.csv   \n",
       "3  https://open.spotify.com/track/0A5gdlrpAuQqZ2i...  2019-03-27-in-viral.csv   \n",
       "4  https://open.spotify.com/track/7COXchtUOMd6uIT...  2019-03-27-in-viral.csv   \n",
       "\n",
       "                       ID        date country  group  length  popularity  \\\n",
       "0  4y3OI86AEP6PQoDE6olYhO  2019-03-27      in  viral  181040           9   \n",
       "1  5SHhPFh68OhUmuRPymKX9d  2019-03-27      in  viral  183428           0   \n",
       "2  5WHTFyqSii0lmT9R21abT8  2019-03-27      in  viral  178480          79   \n",
       "3  0A5gdlrpAuQqZ2iFgnqBFW  2019-03-27      in  viral  173066          72   \n",
       "4  7COXchtUOMd6uIT6HvmRaI  2019-03-27      in  viral  162582          13   \n",
       "\n",
       "   acousticness  danceability  energy  key  instrumentalness  liveness  \\\n",
       "0        0.0427         0.842   0.734    1          0.000000    0.1060   \n",
       "1        0.4550         0.679   0.572    5          0.000002    0.1270   \n",
       "2        0.2960         0.674   0.881    9          0.000003    0.0793   \n",
       "3        0.0529         0.813   0.761   10          0.011900    0.3370   \n",
       "4        0.1760         0.599   0.733   11          0.000000    0.2420   \n",
       "\n",
       "   loudness  mode  speechiness  valence    tempo  loud_start  \n",
       "0    -5.065     0       0.0588    0.952  137.958     -11.142  \n",
       "1    -6.703     1       0.0781    0.542   92.859      -8.190  \n",
       "2    -2.853     1       0.1470    0.234   98.994      -5.559  \n",
       "3    -5.687     0       0.0850    0.290  124.957      -5.704  \n",
       "4    -7.058     1       0.2030    0.534  102.211     -12.880  "
      ]
     },
     "execution_count": 4,
     "metadata": {},
     "output_type": "execute_result"
    }
   ],
   "source": [
    "viral.head()"
   ]
  },
  {
   "cell_type": "code",
   "execution_count": 5,
   "metadata": {},
   "outputs": [
    {
     "data": {
      "text/plain": [
       "Index(['Position', 'Track Name', 'Artist', 'URL', 'filename', 'ID', 'date',\n",
       "       'country', 'group', 'length', 'popularity', 'acousticness',\n",
       "       'danceability', 'energy', 'key', 'instrumentalness', 'liveness',\n",
       "       'loudness', 'mode', 'speechiness', 'valence', 'tempo', 'loud_start'],\n",
       "      dtype='object')"
      ]
     },
     "execution_count": 5,
     "metadata": {},
     "output_type": "execute_result"
    }
   ],
   "source": [
    "viral.columns"
   ]
  },
  {
   "cell_type": "markdown",
   "metadata": {},
   "source": [
    "remarks on the features\n",
    "* 'valence' indicates the 'happiness' the lower the score the sader the music. [refercence](https://community.spotify.com/t5/Content-Questions/Valence-as-a-measure-of-happiness/td-p/4385221)\n",
    "* mode 0/1 indicates major/minor (dur/moll)"
   ]
  },
  {
   "cell_type": "code",
   "execution_count": 6,
   "metadata": {},
   "outputs": [],
   "source": [
    "#rename column length to duration to match the kaggle dataframe\n",
    "viral=viral.rename(columns={'length':'duration_ms'})\n"
   ]
  },
  {
   "cell_type": "markdown",
   "metadata": {},
   "source": [
    "#### dtypes tweaking"
   ]
  },
  {
   "cell_type": "code",
   "execution_count": 7,
   "metadata": {},
   "outputs": [
    {
     "data": {
      "text/plain": [
       "Position              int64\n",
       "Track Name           object\n",
       "Artist               object\n",
       "URL                  object\n",
       "filename             object\n",
       "ID                   object\n",
       "date                 object\n",
       "country              object\n",
       "group                object\n",
       "duration_ms           int64\n",
       "popularity            int64\n",
       "acousticness        float64\n",
       "danceability        float64\n",
       "energy              float64\n",
       "key                   int64\n",
       "instrumentalness    float64\n",
       "liveness            float64\n",
       "loudness            float64\n",
       "mode                  int64\n",
       "speechiness         float64\n",
       "valence             float64\n",
       "tempo               float64\n",
       "loud_start          float64\n",
       "dtype: object"
      ]
     },
     "execution_count": 7,
     "metadata": {},
     "output_type": "execute_result"
    }
   ],
   "source": [
    "viral.dtypes"
   ]
  },
  {
   "cell_type": "code",
   "execution_count": 8,
   "metadata": {},
   "outputs": [],
   "source": [
    "#date to datetime\n",
    "viral.date=pd.to_datetime(viral.date, format=\"%Y-%m-%d\", yearfirst=True)\n",
    "\n",
    "# mode and key are categroical values\n",
    "viral['mode'] = viral['mode'].apply(str)\n",
    "viral['key'] = viral['key'].apply(str)"
   ]
  },
  {
   "cell_type": "code",
   "execution_count": 9,
   "metadata": {},
   "outputs": [
    {
     "data": {
      "text/plain": [
       "0         1\n",
       "1         5\n",
       "2         9\n",
       "3        10\n",
       "4        11\n",
       "         ..\n",
       "13272     8\n",
       "13273    11\n",
       "13274     6\n",
       "13275     9\n",
       "13276     6\n",
       "Name: key, Length: 13277, dtype: object"
      ]
     },
     "execution_count": 9,
     "metadata": {},
     "output_type": "execute_result"
    }
   ],
   "source": [
    "viral['key']"
   ]
  },
  {
   "cell_type": "code",
   "execution_count": 10,
   "metadata": {},
   "outputs": [],
   "source": [
    "# mapping country codes to real country names\n",
    "keys=list(sorted(set(viral.country)))\n",
    "values=['Argentina','Australia','Brazil','Canada','Germany','Egypt','Spain','United Kingdom','Indonesia','India','Iceland','Italy','Japan','Marocco','Mexico','New Zealand','Russia','Turkey','Ukraine','South Africa']\n",
    "country_dict = dict(zip(keys, values))\n",
    "viral['country']=viral['country'].map(country_dict) "
   ]
  },
  {
   "cell_type": "markdown",
   "metadata": {},
   "source": [
    "# CAN WE PREDICT IF SONGS ARE VIRAL SONGS\n",
    "* Supervised learning model with K NEAREST NEIGHBORS\n",
    "* Will the musical features of snongs labeled as viral be distinguishable enough?\n",
    "* Using a large kaggle song data base as baseline to compare against songs from viral charts\n",
    "* https://www.kaggle.com/yamaerenay/spotify-dataset-19212020-160k-tracks"
   ]
  },
  {
   "cell_type": "code",
   "execution_count": 11,
   "metadata": {},
   "outputs": [],
   "source": [
    "kaggle=pd.read_csv(r'data/kaggle/data.csv')"
   ]
  },
  {
   "cell_type": "code",
   "execution_count": 12,
   "metadata": {},
   "outputs": [],
   "source": [
    "#adding column indicating they are not the viral songs\n",
    "kaggle['group']='random'"
   ]
  },
  {
   "cell_type": "code",
   "execution_count": 13,
   "metadata": {},
   "outputs": [],
   "source": [
    "# mode and key are categroical values\n",
    "kaggle['mode'] = kaggle['mode'].apply(str)\n",
    "kaggle['key'] = kaggle['key'].apply(str)"
   ]
  },
  {
   "cell_type": "code",
   "execution_count": 14,
   "metadata": {},
   "outputs": [
    {
     "name": "stdout",
     "output_type": "stream",
     "text": [
      "# of records:  16142\n"
     ]
    }
   ],
   "source": [
    "# only want to keep songs from 2015 to 2020 to avoid accidentally measuring change in music production\n",
    "base=kaggle[kaggle['year'].isin([2015,2016,2017,2018,2019,2020])]\n",
    "print('# of records: ',len(base))\n",
    "#sadly reissues of old songs cannot be filterd out (ex. Frank Sinatra and Joni Mitchel)"
   ]
  },
  {
   "cell_type": "code",
   "execution_count": null,
   "metadata": {},
   "outputs": [],
   "source": []
  },
  {
   "cell_type": "markdown",
   "metadata": {},
   "source": [
    "# K NEAREST NEIGHBOUR\n",
    "* check multicollinearity\n",
    "* check outliers\n",
    "* create dummies for categorical variable (ex key & mode)\n",
    "* distance based algorithms demand that all variables need to be standardized\n",
    "* they all need to be on the same scale \n"
   ]
  },
  {
   "cell_type": "code",
   "execution_count": 15,
   "metadata": {},
   "outputs": [],
   "source": [
    "from sklearn.neighbors import KNeighborsClassifier"
   ]
  },
  {
   "cell_type": "markdown",
   "metadata": {},
   "source": [
    "### create joint dataframe \n",
    "create joint df of viral charts songs and songs from kaggle DB I want to compare against"
   ]
  },
  {
   "cell_type": "code",
   "execution_count": 16,
   "metadata": {},
   "outputs": [],
   "source": [
    "# list of relevant columns\n",
    "knear_features=[\"group\",\n",
    "            \"acousticness\",\n",
    "            \"danceability\",\n",
    "            \"duration_ms\",\n",
    "            \"energy\",\n",
    "            \"instrumentalness\",\n",
    "            \"liveness\",\n",
    "            \"loudness\",\n",
    "            \"speechiness\",\n",
    "            \"tempo\",\n",
    "            \"valence\",\n",
    "            \"key\",\n",
    "            \"mode\"]"
   ]
  },
  {
   "cell_type": "code",
   "execution_count": 17,
   "metadata": {},
   "outputs": [],
   "source": [
    "#concat viral df with data from kaggle i use as base\n",
    "knear_df=pd.concat([viral[knear_features],base[knear_features]],axis=0,ignore_index=True)"
   ]
  },
  {
   "cell_type": "code",
   "execution_count": 18,
   "metadata": {},
   "outputs": [],
   "source": [
    "#rename target variable and make it numerical: viral 1 or 0\n",
    "knear_df=knear_df.rename(columns={'group':'viral'})\n",
    "knear_df.viral=np.where(knear_df.viral=='viral',1,0)"
   ]
  },
  {
   "cell_type": "code",
   "execution_count": 19,
   "metadata": {},
   "outputs": [
    {
     "data": {
      "text/plain": [
       "0    16142\n",
       "1    13277\n",
       "Name: viral, dtype: int64"
      ]
     },
     "execution_count": 19,
     "metadata": {},
     "output_type": "execute_result"
    }
   ],
   "source": [
    "knear_df.viral.value_counts()"
   ]
  },
  {
   "cell_type": "markdown",
   "metadata": {},
   "source": [
    "### checking multicollinearity"
   ]
  },
  {
   "cell_type": "code",
   "execution_count": 20,
   "metadata": {},
   "outputs": [
    {
     "data": {
      "image/png": "[encoded data removed]",
      "text/plain": [
       "<Figure size 720x720 with 2 Axes>"
      ]
     },
     "metadata": {
      "needs_background": "light"
     },
     "output_type": "display_data"
    }
   ],
   "source": [
    "#\n",
    "corr = knear_df.corr()\n",
    "f, ax = plt.subplots(figsize=(10, 10))\n",
    "sns.set_style(\"darkgrid\")\n",
    "mask = np.triu(np.ones_like(corr, dtype=bool)) # removing the other side of the heatmap\n",
    "cmap = sns.diverging_palette(230, 20, as_cmap=True) #preparing cmap\n",
    "sns.heatmap(corr,mask=mask,cmap=cmap,linewidths=.5,square=True,annot=True)\n",
    "plt.show()"
   ]
  },
  {
   "cell_type": "markdown",
   "metadata": {},
   "source": [
    "* interesting: viral pos correspondes w/ danceability, loudness\n",
    "* interesting: viral neg correspondes w/instrumentalness \n",
    "* energy and loudness have strong correlation.\n",
    "* I keep energy and loudness since their impact on the target seems to be quite different"
   ]
  },
  {
   "cell_type": "code",
   "execution_count": 21,
   "metadata": {},
   "outputs": [],
   "source": [
    "## THOMAS HIER MUSST DU NOCH WAS MACHEN!\n",
    "## ALS NÄCHSTES AUS MODE UND KEY DUMMIES MACHEN\n",
    "## IST MODE 1 dur oder moll"
   ]
  },
  {
   "cell_type": "code",
   "execution_count": null,
   "metadata": {},
   "outputs": [],
   "source": []
  },
  {
   "cell_type": "code",
   "execution_count": null,
   "metadata": {},
   "outputs": [],
   "source": []
  },
  {
   "cell_type": "code",
   "execution_count": null,
   "metadata": {},
   "outputs": [],
   "source": []
  },
  {
   "cell_type": "code",
   "execution_count": null,
   "metadata": {},
   "outputs": [],
   "source": []
  },
  {
   "cell_type": "code",
   "execution_count": null,
   "metadata": {},
   "outputs": [],
   "source": []
  },
  {
   "cell_type": "code",
   "execution_count": null,
   "metadata": {},
   "outputs": [],
   "source": []
  },
  {
   "cell_type": "markdown",
   "metadata": {},
   "source": [
    "### creat model k nearest neighbour\n",
    "sklearn"
   ]
  },
  {
   "cell_type": "code",
   "execution_count": 22,
   "metadata": {},
   "outputs": [],
   "source": [
    "from sklearn.model_selection import train_test_split\n",
    "y=knear_df['viral']\n",
    "X=knear_df.drop('viral',axis=1)\n",
    "\n",
    "X_train, X_test, y_train, y_test = train_test_split(X, y, test_size=0.4, random_state=100)"
   ]
  },
  {
   "cell_type": "code",
   "execution_count": 23,
   "metadata": {},
   "outputs": [
    {
     "name": "stdout",
     "output_type": "stream",
     "text": [
      "0.7111658735554045\n",
      "0    6188\n",
      "1    5580\n",
      "dtype: int64\n"
     ]
    }
   ],
   "source": [
    "from sklearn.neighbors import KNeighborsClassifier\n",
    "\n",
    "knear_model = KNeighborsClassifier(n_neighbors=3).fit(X_train, y_train)\n",
    "predictions = knear_model.predict(X_test)\n",
    "print(knear_model.score(X_test, y_test))\n",
    "print(pd.Series(predictions).value_counts())"
   ]
  },
  {
   "cell_type": "code",
   "execution_count": 24,
   "metadata": {},
   "outputs": [
    {
     "name": "stdout",
     "output_type": "stream",
     "text": [
      "[[4612 1823]\n",
      " [1576 3757]]\n"
     ]
    }
   ],
   "source": [
    "from sklearn.metrics import confusion_matrix\n",
    "cf_matrix = confusion_matrix(y_test, predictions)\n",
    "print(cf_matrix)\n"
   ]
  },
  {
   "cell_type": "code",
   "execution_count": 25,
   "metadata": {},
   "outputs": [
    {
     "data": {
      "text/plain": [
       "Text(0.5, 1.0, 'CONFUSION MATRIX')"
      ]
     },
     "execution_count": 25,
     "metadata": {},
     "output_type": "execute_result"
    },
    {
     "data": {
      "image/png": "[encoded data removed]",
      "text/plain": [
       "<Figure size 1080x720 with 2 Axes>"
      ]
     },
     "metadata": {},
     "output_type": "display_data"
    }
   ],
   "source": [
    "plt.figure(figsize=(15,10))\n",
    "cmap = sns.diverging_palette(230, 20, as_cmap=True) #preparing cmap\n",
    "\n",
    "sns.heatmap(cf_matrix/np.sum(cf_matrix), annot=True, \n",
    "            fmt='.2%', cmap=cmap,xticklabels=[ 'predicted random song', 'predicted viral song'],\n",
    "            yticklabels=['actually a random song','actually a viral song']).set_title('CONFUSION MATRIX')\n"
   ]
  },
  {
   "cell_type": "code",
   "execution_count": 26,
   "metadata": {},
   "outputs": [],
   "source": [
    "# to do???\n",
    "# hyper model tweaking\n",
    "# most important features\n",
    "# how are the 2 most important features distributed around the globe for viral songs in there respective viral charts"
   ]
  },
  {
   "cell_type": "code",
   "execution_count": null,
   "metadata": {},
   "outputs": [],
   "source": []
  },
  {
   "cell_type": "code",
   "execution_count": null,
   "metadata": {},
   "outputs": [],
   "source": []
  },
  {
   "cell_type": "code",
   "execution_count": null,
   "metadata": {},
   "outputs": [],
   "source": []
  },
  {
   "cell_type": "code",
   "execution_count": null,
   "metadata": {},
   "outputs": [],
   "source": []
  },
  {
   "cell_type": "code",
   "execution_count": null,
   "metadata": {},
   "outputs": [],
   "source": []
  },
  {
   "cell_type": "markdown",
   "metadata": {},
   "source": [
    "# NOTES"
   ]
  },
  {
   "cell_type": "markdown",
   "metadata": {},
   "source": [
    "PLOTS\n",
    "https://seaborn.pydata.org/tutorial/distributions.html"
   ]
  },
  {
   "cell_type": "code",
   "execution_count": null,
   "metadata": {},
   "outputs": [],
   "source": []
  }
 ],
 "metadata": {
  "kernelspec": {
   "display_name": "Python 3",
   "language": "python",
   "name": "python3"
  },
  "language_info": {
   "codemirror_mode": {
    "name": "ipython",
    "version": 3
   },
   "file_extension": ".py",
   "mimetype": "text/x-python",
   "name": "python",
   "nbconvert_exporter": "python",
   "pygments_lexer": "ipython3",
   "version": "3.8.5"
  }
 },
 "nbformat": 4,
 "nbformat_minor": 4
}
