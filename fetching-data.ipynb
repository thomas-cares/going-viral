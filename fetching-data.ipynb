{
 "cells": [
  {
   "cell_type": "markdown",
   "metadata": {},
   "source": [
    "# IMPORT"
   ]
  },
  {
   "cell_type": "code",
   "execution_count": 57,
   "metadata": {},
   "outputs": [],
   "source": [
    "import spotipy\n",
    "import spotipy.util as util\n",
    "from spotipy.oauth2 import SpotifyClientCredentials\n",
    "from spotipy.oauth2 import SpotifyOAuth\n",
    "import spotipy.oauth2 as oauth2\n",
    "import json\n",
    "import pandas as pd\n",
    "import numpy as np\n",
    "import requests\n",
    "import re\n",
    "import os\n",
    "import datetime\n",
    "from datetime import date, timedelta\n",
    "from datetime import datetime\n",
    "import glob\n",
    "import time "
   ]
  },
  {
   "cell_type": "code",
   "execution_count": 5,
   "metadata": {},
   "outputs": [],
   "source": [
    "pd.set_option('display.max_columns', None)"
   ]
  },
  {
   "cell_type": "markdown",
   "metadata": {},
   "source": [
    "# AUTHENTIFICATION\n",
    "* guide for authentification with Spotify API: https://developer.spotify.com/documentation/general/guides/authorization-guide/\n",
    "* calling personal credentials from environment https://able.bio/rhett/how-to-set-and-get-environment-variables-in-python--274rgt5\n",
    "* open in terminal: touch ~/.bash_profile; open ~/.bash_profile\n",
    "* implement: source ~/.bash_profile\n",
    "* get new token https://developer.spotify.com/console/put-playlist/\n"
   ]
  },
  {
   "cell_type": "markdown",
   "metadata": {},
   "source": [
    "#### Create and refresh token\n",
    "run this to  refresh the token. Token runs out every 3600 seconds."
   ]
  },
  {
   "cell_type": "code",
   "execution_count": null,
   "metadata": {},
   "outputs": [],
   "source": [
    "my_client_id=os.getenv('spoti_CLIENT_ID')\n",
    "my_client_secret=os.getenv('spoti_CLIENT_SECRET')\n",
    "\n",
    "token = SpotifyClientCredentials(client_id=my_client_id, client_secret=my_client_secret)\n",
    "\n",
    "#token to pull publicly available data like music analysis data\n",
    "cache_token = token.get_access_token()\n",
    "sp = spotipy.Spotify(cache_token)\n",
    "\n",
    "#token to pull songs of an individual usersp_pers=spotipy.Spotify(cache_token_personal)\n",
    "cache_token_personal= '' \n",
    "sp1=spotipy.Spotify(cache_token_personal)\n",
    "print(cache_token_personal)\n",
    "print(cache_token)"
   ]
  },
  {
   "cell_type": "markdown",
   "metadata": {},
   "source": [
    "# CRAWLING FOR CHARTS\n",
    "HERE WE DOWNLOAD CSVs FORM www.spotifycharts.com"
   ]
  },
  {
   "cell_type": "markdown",
   "metadata": {},
   "source": [
    "### Function\n",
    "downloads CSVs from spotifycharts.com given the countries of choice and the time interval set below\n",
    "\n",
    "* Note: this depends on the availability of the CSVs on spoitifycharts.com . Error may occure if we are trying to pull data for a day spotify does not provide charts data for. Slightly adapting frequency or start and end date might shift you around thos \"data holes\""
   ]
  },
  {
   "cell_type": "code",
   "execution_count": 154,
   "metadata": {},
   "outputs": [],
   "source": [
    "#DOWNLOAD LOOP FOR COUNTRY AND FOR TIME PERIOD\n",
    "# prepare a folder named 'data' with two subfolders named 'viral' and 'regional'\n",
    "def bulk_charts_download(country_charts, date_list):\n",
    "    for country in country_charts:\n",
    "        for date in date_list:\n",
    "            url= f'https://spotifycharts.com/{what_charts}/{country}/daily/{date}/download'\n",
    "            r = requests.get(url, allow_redirects=True)\n",
    "            open(f'data/{what_charts}/{date}-{country}-{what_charts}.csv', 'wb').write(r.content)"
   ]
  },
  {
   "cell_type": "markdown",
   "metadata": {},
   "source": [
    "### SET PARAMETERS FOR CRAWLING"
   ]
  },
  {
   "cell_type": "markdown",
   "metadata": {},
   "source": [
    "#### Set Start and End Date"
   ]
  },
  {
   "cell_type": "code",
   "execution_count": 8,
   "metadata": {},
   "outputs": [],
   "source": [
    "startdate = date(2018, 1, 1)   # start date\n",
    "enddate = date(2020,12,30)   # end date\n",
    "delta = enddate - startdate       # as timedelta\n",
    "\n",
    "date_list=[]\n",
    "\n",
    "for i in range(delta.days+1):\n",
    "    day = startdate + timedelta(days=i)\n",
    "    date_list.append(day.strftime(\"%Y-%m-%d\"))"
   ]
  },
  {
   "cell_type": "markdown",
   "metadata": {},
   "source": [
    "#### Chose frequency\n",
    "between start date and end date how often do we pull charts data"
   ]
  },
  {
   "cell_type": "code",
   "execution_count": 9,
   "metadata": {},
   "outputs": [],
   "source": [
    "date_list=date_list[0::30] #every 30 days"
   ]
  },
  {
   "cell_type": "markdown",
   "metadata": {},
   "source": [
    "#### Country Codes"
   ]
  },
  {
   "cell_type": "code",
   "execution_count": 10,
   "metadata": {},
   "outputs": [],
   "source": [
    "#enter list of country codes\n",
    "country_charts=['us','br','jp','de','ca','gb','tr','is','mx','za','au','ar','eg','es','it','ma','nz','id','ru','ua','in','']\n",
    "#HELP: LIST OF COUNTRY CHARTS\n",
    "print(sp.country_codes)"
   ]
  },
  {
   "cell_type": "markdown",
   "metadata": {},
   "source": [
    "#### Which charts are we crawling\n",
    "Options: viral charts or regional top200"
   ]
  },
  {
   "cell_type": "code",
   "execution_count": 56,
   "metadata": {},
   "outputs": [],
   "source": [
    "# VIRAL CHART sample URL https://spotifycharts.com/viral/us/daily/2020-03-13/download\n",
    "# thats how i want filename to be safed regional-us-weekly-2020-03-13--2020-03-20.csv\n",
    "# enter as string 'viral' for viral top 50 or 'regional' for local top 200\n",
    "what_charts='viral'"
   ]
  },
  {
   "cell_type": "markdown",
   "metadata": {},
   "source": [
    "#### Trigger download CSVs to folder: Calls function with parameters set above"
   ]
  },
  {
   "cell_type": "code",
   "execution_count": 360,
   "metadata": {},
   "outputs": [],
   "source": [
    "bulk_charts_download(country_charts, date_list)"
   ]
  },
  {
   "cell_type": "markdown",
   "metadata": {},
   "source": [
    "# CREATE DATAFRAMES"
   ]
  },
  {
   "cell_type": "markdown",
   "metadata": {},
   "source": [
    "#### create dataframe from csvs\n",
    "* intermediate step before adding music features"
   ]
  },
  {
   "cell_type": "markdown",
   "metadata": {},
   "source": [
    "#### FUNCTION CSVs to Data Frames\n",
    "* additionally extracts data on country, date and song IDs form the original URLs\n"
   ]
  },
  {
   "cell_type": "code",
   "execution_count": 16,
   "metadata": {},
   "outputs": [],
   "source": [
    "def csv_to_dataframe(what_charts):\n",
    "    path = f'data/{what_charts}/'                     # use your path\n",
    "    all_files = glob.glob(os.path.join(path, \"*.csv\"))     # advisable to use os.path.join as this makes concatenation OS independent\n",
    "\n",
    "    df = [] # pd.concat takes a list of dataframes as an agrument\n",
    "    for csv in all_files:\n",
    "        \n",
    "        # if condition since csv of top200 look differently than csvs from viral charts.\n",
    "        # top 200 sharts do have a disclaimer not in the first line that messes with our columns upon import\n",
    "        # we need to igonre it\n",
    "        if what_charts=='regional': \n",
    "            frame = pd.read_csv(csv,skiprows=[0],error_bad_lines=False, warn_bad_lines=True)\n",
    "            frame=frame.drop('Streams',axis=1)\n",
    "        #this is the read in for viral charts csvs\n",
    "        else:\n",
    "            frame = pd.read_csv(csv,skiprows=[],error_bad_lines=False, warn_bad_lines=True)\n",
    "        \n",
    "        frame['filename'] = os.path.basename(csv)\n",
    "        df.append(frame)\n",
    "        \n",
    "    #concat list of dataframes into 1\n",
    "    df=pd.concat(df, ignore_index=True) \n",
    "    \n",
    "    #finetuning columns with regex\n",
    "    df['ID']= re.findall(r'\\d\\w+',str(list(df['URL']))) #extract ID from URL\n",
    "    df['date']=re.findall(r'\\d\\d\\d\\d-\\d\\d-\\d\\d', str(list(df['filename'])))\n",
    "    df['date']=pd.to_datetime(df.date, format=\"%Y-%m-%d\", yearfirst=True)\n",
    "    df['country']=re.findall(r'-[a-z][a-z]-', str(list(df['filename'])))\n",
    "    df['country']=re.findall(r'[a-z][a-z]',str(list(df['country'])))\n",
    "    \n",
    "    # indicates if song is from viral charts or top 200 charts/ 'regional' indicates its part of  regional top200 charts hence we label it 'top200'\n",
    "    df['group']=np.where(what_charts=='regional','top200',what_charts) \n",
    "    return df"
   ]
  },
  {
   "cell_type": "code",
   "execution_count": 17,
   "metadata": {},
   "outputs": [
    {
     "data": {
      "text/plain": [
       "33200"
      ]
     },
     "execution_count": 17,
     "metadata": {},
     "output_type": "execute_result"
    }
   ],
   "source": [
    "viral_df_basic=csv_to_dataframe('viral')#pass in bracket if 'viral' or 'regional'\n",
    "len(viral_df_basic)"
   ]
  },
  {
   "cell_type": "code",
   "execution_count": null,
   "metadata": {},
   "outputs": [],
   "source": []
  },
  {
   "cell_type": "markdown",
   "metadata": {},
   "source": [
    "# SUBSETTING VIRAL CHARTS\n",
    "* to make the project feasible for my processing means I need to subset\n",
    "* my machine is able to make approx 6300 calls to the api per hour\n",
    "* subsetting to the viral top 20 of 22 countries between 01/01/2017 and 31/12/2020 at 12 sample dates\n",
    "* ending up with almost 5872 ids to represent 13827 entries"
   ]
  },
  {
   "cell_type": "code",
   "execution_count": 19,
   "metadata": {},
   "outputs": [
    {
     "data": {
      "text/plain": [
       "13827"
      ]
     },
     "execution_count": 19,
     "metadata": {},
     "output_type": "execute_result"
    }
   ],
   "source": [
    "# unique song id: plenty of songs are in teh charts multiple time for different countries and at different dates\n",
    "# lets see how many IDs are unique since we dont want to pull features for the same song multiple times\n",
    "unique_ids=list(viral_df_basic.ID.unique())\n",
    "len(unique_ids)"
   ]
  },
  {
   "cell_type": "code",
   "execution_count": 21,
   "metadata": {},
   "outputs": [
    {
     "data": {
      "text/plain": [
       "5872"
      ]
     },
     "execution_count": 21,
     "metadata": {},
     "output_type": "execute_result"
    }
   ],
   "source": [
    "# lets return all unique IDs of songs that are at one point place in the top20 viral charts in any country at any time\n",
    "\n",
    "unique_ids_of_top20viral=set(viral_df_basic['ID'][viral_df_basic['ID'].isin (unique_ids) & viral_df_basic['Position'].isin(list(range(1,21)))])\n",
    "len(unique_ids_of_top20viral)"
   ]
  },
  {
   "cell_type": "code",
   "execution_count": 22,
   "metadata": {},
   "outputs": [],
   "source": [
    "# using the top 20 of each countries viral charts at all sample points results in 5872 unique IDs\n",
    "# thats below my 6300 ongs threashhold"
   ]
  },
  {
   "cell_type": "code",
   "execution_count": 23,
   "metadata": {},
   "outputs": [
    {
     "data": {
      "text/plain": [
       "(13280, 9)"
      ]
     },
     "execution_count": 23,
     "metadata": {},
     "output_type": "execute_result"
    }
   ],
   "source": [
    "#\n",
    "viral_df_basic_top20=viral_df_basic[viral_df_basic['Position'].isin(list(range(1,21)))]\n",
    "viral_df_basic_top20.shape "
   ]
  },
  {
   "cell_type": "code",
   "execution_count": 24,
   "metadata": {},
   "outputs": [
    {
     "data": {
      "text/plain": [
       "5872"
      ]
     },
     "execution_count": 24,
     "metadata": {},
     "output_type": "execute_result"
    }
   ],
   "source": [
    "len(viral_df_basic_top20.ID.unique())"
   ]
  },
  {
   "cell_type": "markdown",
   "metadata": {},
   "source": [
    "# INSPECT DATAFRAME"
   ]
  },
  {
   "cell_type": "code",
   "execution_count": 25,
   "metadata": {},
   "outputs": [
    {
     "data": {
      "text/html": [
       "<div>\n",
       "<style scoped>\n",
       "    .dataframe tbody tr th:only-of-type {\n",
       "        vertical-align: middle;\n",
       "    }\n",
       "\n",
       "    .dataframe tbody tr th {\n",
       "        vertical-align: top;\n",
       "    }\n",
       "\n",
       "    .dataframe thead th {\n",
       "        text-align: right;\n",
       "    }\n",
       "</style>\n",
       "<table border=\"1\" class=\"dataframe\">\n",
       "  <thead>\n",
       "    <tr style=\"text-align: right;\">\n",
       "      <th></th>\n",
       "      <th>Position</th>\n",
       "      <th>Track Name</th>\n",
       "      <th>Artist</th>\n",
       "      <th>URL</th>\n",
       "      <th>filename</th>\n",
       "      <th>ID</th>\n",
       "      <th>date</th>\n",
       "      <th>country</th>\n",
       "      <th>group</th>\n",
       "    </tr>\n",
       "  </thead>\n",
       "  <tbody>\n",
       "    <tr>\n",
       "      <th>0</th>\n",
       "      <td>1</td>\n",
       "      <td>Sucker</td>\n",
       "      <td>Jonas Brothers</td>\n",
       "      <td>https://open.spotify.com/track/4y3OI86AEP6PQoD...</td>\n",
       "      <td>2019-03-27-in-viral.csv</td>\n",
       "      <td>4y3OI86AEP6PQoDE6olYhO</td>\n",
       "      <td>2019-03-27</td>\n",
       "      <td>in</td>\n",
       "      <td>viral</td>\n",
       "    </tr>\n",
       "    <tr>\n",
       "      <th>1</th>\n",
       "      <td>2</td>\n",
       "      <td>Undrunk</td>\n",
       "      <td>FLETCHER</td>\n",
       "      <td>https://open.spotify.com/track/5SHhPFh68OhUmuR...</td>\n",
       "      <td>2019-03-27-in-viral.csv</td>\n",
       "      <td>5SHhPFh68OhUmuRPymKX9d</td>\n",
       "      <td>2019-03-27</td>\n",
       "      <td>in</td>\n",
       "      <td>viral</td>\n",
       "    </tr>\n",
       "    <tr>\n",
       "      <th>2</th>\n",
       "      <td>3</td>\n",
       "      <td>Don't Call Me Up</td>\n",
       "      <td>Mabel</td>\n",
       "      <td>https://open.spotify.com/track/5WHTFyqSii0lmT9...</td>\n",
       "      <td>2019-03-27-in-viral.csv</td>\n",
       "      <td>5WHTFyqSii0lmT9R21abT8</td>\n",
       "      <td>2019-03-27</td>\n",
       "      <td>in</td>\n",
       "      <td>viral</td>\n",
       "    </tr>\n",
       "    <tr>\n",
       "      <th>3</th>\n",
       "      <td>4</td>\n",
       "      <td>Moonlight</td>\n",
       "      <td>Gaullin</td>\n",
       "      <td>https://open.spotify.com/track/0A5gdlrpAuQqZ2i...</td>\n",
       "      <td>2019-03-27-in-viral.csv</td>\n",
       "      <td>0A5gdlrpAuQqZ2iFgnqBFW</td>\n",
       "      <td>2019-03-27</td>\n",
       "      <td>in</td>\n",
       "      <td>viral</td>\n",
       "    </tr>\n",
       "    <tr>\n",
       "      <th>4</th>\n",
       "      <td>5</td>\n",
       "      <td>i'm so tired...</td>\n",
       "      <td>Lauv</td>\n",
       "      <td>https://open.spotify.com/track/7COXchtUOMd6uIT...</td>\n",
       "      <td>2019-03-27-in-viral.csv</td>\n",
       "      <td>7COXchtUOMd6uIT6HvmRaI</td>\n",
       "      <td>2019-03-27</td>\n",
       "      <td>in</td>\n",
       "      <td>viral</td>\n",
       "    </tr>\n",
       "  </tbody>\n",
       "</table>\n",
       "</div>"
      ],
      "text/plain": [
       "   Position        Track Name          Artist  \\\n",
       "0         1            Sucker  Jonas Brothers   \n",
       "1         2           Undrunk        FLETCHER   \n",
       "2         3  Don't Call Me Up           Mabel   \n",
       "3         4         Moonlight         Gaullin   \n",
       "4         5   i'm so tired...            Lauv   \n",
       "\n",
       "                                                 URL                 filename  \\\n",
       "0  https://open.spotify.com/track/4y3OI86AEP6PQoD...  2019-03-27-in-viral.csv   \n",
       "1  https://open.spotify.com/track/5SHhPFh68OhUmuR...  2019-03-27-in-viral.csv   \n",
       "2  https://open.spotify.com/track/5WHTFyqSii0lmT9...  2019-03-27-in-viral.csv   \n",
       "3  https://open.spotify.com/track/0A5gdlrpAuQqZ2i...  2019-03-27-in-viral.csv   \n",
       "4  https://open.spotify.com/track/7COXchtUOMd6uIT...  2019-03-27-in-viral.csv   \n",
       "\n",
       "                       ID       date country  group  \n",
       "0  4y3OI86AEP6PQoDE6olYhO 2019-03-27      in  viral  \n",
       "1  5SHhPFh68OhUmuRPymKX9d 2019-03-27      in  viral  \n",
       "2  5WHTFyqSii0lmT9R21abT8 2019-03-27      in  viral  \n",
       "3  0A5gdlrpAuQqZ2iFgnqBFW 2019-03-27      in  viral  \n",
       "4  7COXchtUOMd6uIT6HvmRaI 2019-03-27      in  viral  "
      ]
     },
     "execution_count": 25,
     "metadata": {},
     "output_type": "execute_result"
    }
   ],
   "source": [
    "viral_df_basic_top20.head()"
   ]
  },
  {
   "cell_type": "code",
   "execution_count": 26,
   "metadata": {},
   "outputs": [
    {
     "data": {
      "text/html": [
       "<div>\n",
       "<style scoped>\n",
       "    .dataframe tbody tr th:only-of-type {\n",
       "        vertical-align: middle;\n",
       "    }\n",
       "\n",
       "    .dataframe tbody tr th {\n",
       "        vertical-align: top;\n",
       "    }\n",
       "\n",
       "    .dataframe thead th {\n",
       "        text-align: right;\n",
       "    }\n",
       "</style>\n",
       "<table border=\"1\" class=\"dataframe\">\n",
       "  <thead>\n",
       "    <tr style=\"text-align: right;\">\n",
       "      <th></th>\n",
       "      <th></th>\n",
       "      <th>ID</th>\n",
       "      <th>country</th>\n",
       "    </tr>\n",
       "    <tr>\n",
       "      <th>Track Name</th>\n",
       "      <th>Artist</th>\n",
       "      <th></th>\n",
       "      <th></th>\n",
       "    </tr>\n",
       "  </thead>\n",
       "  <tbody>\n",
       "    <tr>\n",
       "      <th>Dance Monkey</th>\n",
       "      <th>Tones And I</th>\n",
       "      <td>89</td>\n",
       "      <td>deesdemxnzmxbresidnzegmamaesegbrbrmxidtraregnz...</td>\n",
       "    </tr>\n",
       "    <tr>\n",
       "      <th>death bed (coffee for your head)</th>\n",
       "      <th>Powfu</th>\n",
       "      <td>61</td>\n",
       "      <td>jpitzazaitarisusaugbcausgbruaritjpzacaauusisgb...</td>\n",
       "    </tr>\n",
       "    <tr>\n",
       "      <th>Roses - Imanbek Remix</th>\n",
       "      <th>SAINt JHN</th>\n",
       "      <td>50</td>\n",
       "      <td>itzacaitarisusaugbcaisaucausgbruitgbcaaunzisgb...</td>\n",
       "    </tr>\n",
       "    <tr>\n",
       "      <th>Sweet but Psycho</th>\n",
       "      <th>Ava Max</th>\n",
       "      <td>50</td>\n",
       "      <td>zaarititaritzaauususgbaugbzadejpjpgbnzauismaca...</td>\n",
       "    </tr>\n",
       "    <tr>\n",
       "      <th>ily (i love you baby) (feat. Emilee)</th>\n",
       "      <th>Surf Mesa</th>\n",
       "      <td>50</td>\n",
       "      <td>itzacaauitisarusgbisusgbgbusjpzacaauauuaitcais...</td>\n",
       "    </tr>\n",
       "  </tbody>\n",
       "</table>\n",
       "</div>"
      ],
      "text/plain": [
       "                                                  ID  \\\n",
       "Track Name                           Artist            \n",
       "Dance Monkey                         Tones And I  89   \n",
       "death bed (coffee for your head)     Powfu        61   \n",
       "Roses - Imanbek Remix                SAINt JHN    50   \n",
       "Sweet but Psycho                     Ava Max      50   \n",
       "ily (i love you baby) (feat. Emilee) Surf Mesa    50   \n",
       "\n",
       "                                                                                            country  \n",
       "Track Name                           Artist                                                          \n",
       "Dance Monkey                         Tones And I  deesdemxnzmxbresidnzegmamaesegbrbrmxidtraregnz...  \n",
       "death bed (coffee for your head)     Powfu        jpitzazaitarisusaugbcausgbruaritjpzacaauusisgb...  \n",
       "Roses - Imanbek Remix                SAINt JHN    itzacaitarisusaugbcaisaucausgbruitgbcaaunzisgb...  \n",
       "Sweet but Psycho                     Ava Max      zaarititaritzaauususgbaugbzadejpjpgbnzauismaca...  \n",
       "ily (i love you baby) (feat. Emilee) Surf Mesa    itzacaauitisarusgbisusgbgbusjpzacaauauuaitcais...  "
      ]
     },
     "execution_count": 26,
     "metadata": {},
     "output_type": "execute_result"
    }
   ],
   "source": [
    "#are their songs that are in the charts of muliple countries ?\n",
    "pd.pivot_table(viral_df_basic_top20,index=[\"Track Name\",'Artist'], values=['country','ID'], aggfunc={'country':np.sum,'ID':'count'}).sort_values('ID',ascending=False).head(5)"
   ]
  },
  {
   "cell_type": "code",
   "execution_count": 27,
   "metadata": {},
   "outputs": [
    {
     "data": {
      "text/plain": [
       "Position       0\n",
       "Track Name    11\n",
       "Artist        12\n",
       "URL            0\n",
       "filename       0\n",
       "ID             0\n",
       "date           0\n",
       "country        0\n",
       "group          0\n",
       "dtype: int64"
      ]
     },
     "execution_count": 27,
     "metadata": {},
     "output_type": "execute_result"
    }
   ],
   "source": [
    "#anything empty?\n",
    "viral_df_basic_top20.isnull().sum()"
   ]
  },
  {
   "cell_type": "code",
   "execution_count": 28,
   "metadata": {},
   "outputs": [
    {
     "data": {
      "text/html": [
       "<div>\n",
       "<style scoped>\n",
       "    .dataframe tbody tr th:only-of-type {\n",
       "        vertical-align: middle;\n",
       "    }\n",
       "\n",
       "    .dataframe tbody tr th {\n",
       "        vertical-align: top;\n",
       "    }\n",
       "\n",
       "    .dataframe thead th {\n",
       "        text-align: right;\n",
       "    }\n",
       "</style>\n",
       "<table border=\"1\" class=\"dataframe\">\n",
       "  <thead>\n",
       "    <tr style=\"text-align: right;\">\n",
       "      <th></th>\n",
       "      <th>Position</th>\n",
       "      <th>Track Name</th>\n",
       "      <th>Artist</th>\n",
       "      <th>URL</th>\n",
       "      <th>filename</th>\n",
       "      <th>ID</th>\n",
       "      <th>date</th>\n",
       "      <th>country</th>\n",
       "      <th>group</th>\n",
       "    </tr>\n",
       "  </thead>\n",
       "  <tbody>\n",
       "    <tr>\n",
       "      <th>2650</th>\n",
       "      <td>1</td>\n",
       "      <td>NaN</td>\n",
       "      <td>NaN</td>\n",
       "      <td>https://open.spotify.com/track/47rbjDud83d3aqv...</td>\n",
       "      <td>2019-04-26-in-viral.csv</td>\n",
       "      <td>47rbjDud83d3aqvbcTssei</td>\n",
       "      <td>2019-04-26</td>\n",
       "      <td>in</td>\n",
       "      <td>viral</td>\n",
       "    </tr>\n",
       "    <tr>\n",
       "      <th>6963</th>\n",
       "      <td>14</td>\n",
       "      <td>NaN</td>\n",
       "      <td>NaN</td>\n",
       "      <td>https://open.spotify.com/track/4LAgGxPsaI4HeOJ...</td>\n",
       "      <td>2019-11-22-mx-viral.csv</td>\n",
       "      <td>4LAgGxPsaI4HeOJStF8tgV</td>\n",
       "      <td>2019-11-22</td>\n",
       "      <td>mx</td>\n",
       "      <td>viral</td>\n",
       "    </tr>\n",
       "    <tr>\n",
       "      <th>8308</th>\n",
       "      <td>9</td>\n",
       "      <td>NaN</td>\n",
       "      <td>NaN</td>\n",
       "      <td>https://open.spotify.com/track/2IHTNejiUvoSTsF...</td>\n",
       "      <td>2020-10-17-mx-viral.csv</td>\n",
       "      <td>2IHTNejiUvoSTsFpovaESS</td>\n",
       "      <td>2020-10-17</td>\n",
       "      <td>mx</td>\n",
       "      <td>viral</td>\n",
       "    </tr>\n",
       "    <tr>\n",
       "      <th>8314</th>\n",
       "      <td>15</td>\n",
       "      <td>NaN</td>\n",
       "      <td>NaN</td>\n",
       "      <td>https://open.spotify.com/track/4xioHVjM8WJmLEV...</td>\n",
       "      <td>2020-10-17-mx-viral.csv</td>\n",
       "      <td>4xioHVjM8WJmLEVd5DD8BQ</td>\n",
       "      <td>2020-10-17</td>\n",
       "      <td>mx</td>\n",
       "      <td>viral</td>\n",
       "    </tr>\n",
       "    <tr>\n",
       "      <th>8316</th>\n",
       "      <td>17</td>\n",
       "      <td>NaN</td>\n",
       "      <td>NaN</td>\n",
       "      <td>https://open.spotify.com/track/6eiVcW005z9GU9D...</td>\n",
       "      <td>2020-10-17-mx-viral.csv</td>\n",
       "      <td>6eiVcW005z9GU9DpoEdlqh</td>\n",
       "      <td>2020-10-17</td>\n",
       "      <td>mx</td>\n",
       "      <td>viral</td>\n",
       "    </tr>\n",
       "    <tr>\n",
       "      <th>12211</th>\n",
       "      <td>12</td>\n",
       "      <td>NaN</td>\n",
       "      <td>NaN</td>\n",
       "      <td>https://open.spotify.com/track/2AgPxySIeAnXDHZ...</td>\n",
       "      <td>2019-06-25-es-viral.csv</td>\n",
       "      <td>2AgPxySIeAnXDHZvAQHg0R</td>\n",
       "      <td>2019-06-25</td>\n",
       "      <td>es</td>\n",
       "      <td>viral</td>\n",
       "    </tr>\n",
       "    <tr>\n",
       "      <th>14816</th>\n",
       "      <td>17</td>\n",
       "      <td>NaN</td>\n",
       "      <td>NaN</td>\n",
       "      <td>https://open.spotify.com/track/47rbjDud83d3aqv...</td>\n",
       "      <td>2019-05-26-in-viral.csv</td>\n",
       "      <td>47rbjDud83d3aqvbcTssei</td>\n",
       "      <td>2019-05-26</td>\n",
       "      <td>in</td>\n",
       "      <td>viral</td>\n",
       "    </tr>\n",
       "    <tr>\n",
       "      <th>15009</th>\n",
       "      <td>10</td>\n",
       "      <td>NO GOOD</td>\n",
       "      <td>NaN</td>\n",
       "      <td>https://open.spotify.com/track/4Qnz8tARYhUtDNe...</td>\n",
       "      <td>2020-07-19-jp-viral.csv</td>\n",
       "      <td>4Qnz8tARYhUtDNePNsLx2C</td>\n",
       "      <td>2020-07-19</td>\n",
       "      <td>jp</td>\n",
       "      <td>viral</td>\n",
       "    </tr>\n",
       "    <tr>\n",
       "      <th>18510</th>\n",
       "      <td>11</td>\n",
       "      <td>NaN</td>\n",
       "      <td>NaN</td>\n",
       "      <td>https://open.spotify.com/track/461JKAn7H6Sbx0q...</td>\n",
       "      <td>2020-12-16-in-viral.csv</td>\n",
       "      <td>461JKAn7H6Sbx0ql9IvRUG</td>\n",
       "      <td>2020-12-16</td>\n",
       "      <td>in</td>\n",
       "      <td>viral</td>\n",
       "    </tr>\n",
       "    <tr>\n",
       "      <th>19908</th>\n",
       "      <td>9</td>\n",
       "      <td>NaN</td>\n",
       "      <td>NaN</td>\n",
       "      <td>https://open.spotify.com/track/60pysSgEslc7i5b...</td>\n",
       "      <td>2020-05-20-br-viral.csv</td>\n",
       "      <td>60pysSgEslc7i5blU5zZbS</td>\n",
       "      <td>2020-05-20</td>\n",
       "      <td>br</td>\n",
       "      <td>viral</td>\n",
       "    </tr>\n",
       "    <tr>\n",
       "      <th>20211</th>\n",
       "      <td>12</td>\n",
       "      <td>NaN</td>\n",
       "      <td>NaN</td>\n",
       "      <td>https://open.spotify.com/track/3x5RCKLhqj58oye...</td>\n",
       "      <td>2019-12-22-mx-viral.csv</td>\n",
       "      <td>3x5RCKLhqj58oyeZMaNOmF</td>\n",
       "      <td>2019-12-22</td>\n",
       "      <td>mx</td>\n",
       "      <td>viral</td>\n",
       "    </tr>\n",
       "    <tr>\n",
       "      <th>20216</th>\n",
       "      <td>17</td>\n",
       "      <td>NaN</td>\n",
       "      <td>NaN</td>\n",
       "      <td>https://open.spotify.com/track/5RKClHNCc5x2Bri...</td>\n",
       "      <td>2019-12-22-mx-viral.csv</td>\n",
       "      <td>5RKClHNCc5x2BritkOF7tI</td>\n",
       "      <td>2019-12-22</td>\n",
       "      <td>mx</td>\n",
       "      <td>viral</td>\n",
       "    </tr>\n",
       "  </tbody>\n",
       "</table>\n",
       "</div>"
      ],
      "text/plain": [
       "       Position Track Name Artist  \\\n",
       "2650          1        NaN    NaN   \n",
       "6963         14        NaN    NaN   \n",
       "8308          9        NaN    NaN   \n",
       "8314         15        NaN    NaN   \n",
       "8316         17        NaN    NaN   \n",
       "12211        12        NaN    NaN   \n",
       "14816        17        NaN    NaN   \n",
       "15009        10    NO GOOD    NaN   \n",
       "18510        11        NaN    NaN   \n",
       "19908         9        NaN    NaN   \n",
       "20211        12        NaN    NaN   \n",
       "20216        17        NaN    NaN   \n",
       "\n",
       "                                                     URL  \\\n",
       "2650   https://open.spotify.com/track/47rbjDud83d3aqv...   \n",
       "6963   https://open.spotify.com/track/4LAgGxPsaI4HeOJ...   \n",
       "8308   https://open.spotify.com/track/2IHTNejiUvoSTsF...   \n",
       "8314   https://open.spotify.com/track/4xioHVjM8WJmLEV...   \n",
       "8316   https://open.spotify.com/track/6eiVcW005z9GU9D...   \n",
       "12211  https://open.spotify.com/track/2AgPxySIeAnXDHZ...   \n",
       "14816  https://open.spotify.com/track/47rbjDud83d3aqv...   \n",
       "15009  https://open.spotify.com/track/4Qnz8tARYhUtDNe...   \n",
       "18510  https://open.spotify.com/track/461JKAn7H6Sbx0q...   \n",
       "19908  https://open.spotify.com/track/60pysSgEslc7i5b...   \n",
       "20211  https://open.spotify.com/track/3x5RCKLhqj58oye...   \n",
       "20216  https://open.spotify.com/track/5RKClHNCc5x2Bri...   \n",
       "\n",
       "                      filename                      ID       date country  \\\n",
       "2650   2019-04-26-in-viral.csv  47rbjDud83d3aqvbcTssei 2019-04-26      in   \n",
       "6963   2019-11-22-mx-viral.csv  4LAgGxPsaI4HeOJStF8tgV 2019-11-22      mx   \n",
       "8308   2020-10-17-mx-viral.csv  2IHTNejiUvoSTsFpovaESS 2020-10-17      mx   \n",
       "8314   2020-10-17-mx-viral.csv  4xioHVjM8WJmLEVd5DD8BQ 2020-10-17      mx   \n",
       "8316   2020-10-17-mx-viral.csv  6eiVcW005z9GU9DpoEdlqh 2020-10-17      mx   \n",
       "12211  2019-06-25-es-viral.csv  2AgPxySIeAnXDHZvAQHg0R 2019-06-25      es   \n",
       "14816  2019-05-26-in-viral.csv  47rbjDud83d3aqvbcTssei 2019-05-26      in   \n",
       "15009  2020-07-19-jp-viral.csv  4Qnz8tARYhUtDNePNsLx2C 2020-07-19      jp   \n",
       "18510  2020-12-16-in-viral.csv  461JKAn7H6Sbx0ql9IvRUG 2020-12-16      in   \n",
       "19908  2020-05-20-br-viral.csv  60pysSgEslc7i5blU5zZbS 2020-05-20      br   \n",
       "20211  2019-12-22-mx-viral.csv  3x5RCKLhqj58oyeZMaNOmF 2019-12-22      mx   \n",
       "20216  2019-12-22-mx-viral.csv  5RKClHNCc5x2BritkOF7tI 2019-12-22      mx   \n",
       "\n",
       "       group  \n",
       "2650   viral  \n",
       "6963   viral  \n",
       "8308   viral  \n",
       "8314   viral  \n",
       "8316   viral  \n",
       "12211  viral  \n",
       "14816  viral  \n",
       "15009  viral  \n",
       "18510  viral  \n",
       "19908  viral  \n",
       "20211  viral  \n",
       "20216  viral  "
      ]
     },
     "execution_count": 28,
     "metadata": {},
     "output_type": "execute_result"
    }
   ],
   "source": [
    "#NAN values\n",
    "viral_df_basic_top20[viral_df_basic_top20['Artist'].isnull()]"
   ]
  },
  {
   "cell_type": "code",
   "execution_count": 29,
   "metadata": {},
   "outputs": [
    {
     "data": {
      "text/plain": [
       "it    740\n",
       "nz    740\n",
       "us    740\n",
       "au    740\n",
       "tr    740\n",
       "es    740\n",
       "id    740\n",
       "ca    740\n",
       "gb    740\n",
       "jp    740\n",
       "mx    740\n",
       "br    720\n",
       "ar    700\n",
       "za    680\n",
       "de    680\n",
       "is    660\n",
       "eg    520\n",
       "ma    520\n",
       "in    420\n",
       "ua    120\n",
       "ru    120\n",
       "Name: country, dtype: int64"
      ]
     },
     "execution_count": 29,
     "metadata": {},
     "output_type": "execute_result"
    }
   ],
   "source": [
    "# how many songs per country \n",
    "viral_df_basic_top20['country'].value_counts()\n"
   ]
  },
  {
   "cell_type": "markdown",
   "metadata": {},
   "source": [
    "# CALL API FOR MUSIC FEATURES"
   ]
  },
  {
   "cell_type": "markdown",
   "metadata": {},
   "source": [
    "### FUNCTION: GET MUSIC FEATURES FROM API"
   ]
  },
  {
   "cell_type": "code",
   "execution_count": 30,
   "metadata": {},
   "outputs": [],
   "source": [
    "def getTrackFeatures(df):\n",
    "    feature_names=['ID','duration_ms', 'popularity', 'acousticness','danceability', 'energy', 'key','instrumentalness', 'liveness', 'loudness', 'mode','speechiness', 'valence', 'tempo','loud_start']\n",
    "    features_df=pd.DataFrame(columns=feature_names)\n",
    "    \n",
    "    causing_error=[]\n",
    "    \n",
    "    for id in set(df['ID']):#only loop through the unique IDs to enhance performance\n",
    "        try:\n",
    "            print(id)\n",
    "            meta = sp.track(id)\n",
    "            features = sp.audio_features(id)\n",
    "            analysis= sp.audio_analysis(id) #does not seem to be available at all songs\n",
    "\n",
    "            #collect in dictionary\n",
    "            features_dict = {}   \n",
    "\n",
    "        \n",
    "            # meta\n",
    "            features_dict['ID']=meta['id']\n",
    "            features_dict['duration_ms'] = meta['duration_ms']\n",
    "            features_dict['popularity'] = meta['popularity']\n",
    "            # features\n",
    "            features_dict['acousticness'] = features[0]['acousticness']\n",
    "            features_dict['danceability'] = features[0]['danceability']\n",
    "            features_dict['energy'] = features[0]['energy']\n",
    "            features_dict['key'] = features[0]['key']\n",
    "            features_dict['instrumentalness'] = features[0]['instrumentalness']\n",
    "            features_dict['liveness'] = features[0]['liveness']\n",
    "            features_dict['loudness'] = features[0]['loudness']\n",
    "            features_dict['mode'] = features[0]['mode']\n",
    "            features_dict['speechiness'] = features[0]['speechiness']\n",
    "            features_dict['valence']=features[0]['valence']\n",
    "            features_dict['tempo'] = features[0]['tempo']\n",
    "            #analysis\n",
    "            features_dict['loud_start']=analysis['sections'][0]['loudness']#loundness at the start\n",
    "        except:\n",
    "            causing_error.append(id)\n",
    "            print('causing error: ',causing_error)\n",
    "            \n",
    "        #wrap up of all gathered features\n",
    "        track_df = pd.DataFrame(features_dict,index=[0],columns=features_dict.keys())\n",
    "        features_df = pd.concat([features_df, track_df], axis=0, ignore_index = True)#concatinating along axis 0\n",
    "    return features_df\n",
    "    #lst_columns=['Position','Track Name','Artist','URL','filename','ID','date','country','group','duration_ms', 'popularity', 'acousticness','danceability', 'energy', 'instrumentalness', 'liveness', 'loudness','mode', 'speechiness', 'valence', 'tempo','loud_start']\n",
    "    #df_with_features=pd.concat([df,features_df],axis=1,ignore_index = True)\n",
    "    #df_with_features.columns=[list(df.columns)+list(features_df.columns)]#creates new joined list of columns\n",
    "    #return df_with_features"
   ]
  },
  {
   "cell_type": "markdown",
   "metadata": {},
   "source": [
    "#### call API on IDs returning a dataframe with features of each ID"
   ]
  },
  {
   "cell_type": "code",
   "execution_count": null,
   "metadata": {},
   "outputs": [],
   "source": [
    "#dataframe of features\n",
    "viral_features_df=getTrackFeatures(viral_df_basic_top20) #get features for each song\n"
   ]
  },
  {
   "cell_type": "code",
   "execution_count": 36,
   "metadata": {},
   "outputs": [
    {
     "name": "stdout",
     "output_type": "stream",
     "text": [
      "5872\n",
      "ID                  0\n",
      "length              0\n",
      "popularity          0\n",
      "acousticness        0\n",
      "danceability        0\n",
      "energy              0\n",
      "key                 0\n",
      "instrumentalness    0\n",
      "liveness            0\n",
      "loudness            0\n",
      "mode                0\n",
      "speechiness         0\n",
      "valence             0\n",
      "tempo               0\n",
      "loud_start          0\n",
      "dtype: int64\n"
     ]
    },
    {
     "data": {
      "text/html": [
       "<div>\n",
       "<style scoped>\n",
       "    .dataframe tbody tr th:only-of-type {\n",
       "        vertical-align: middle;\n",
       "    }\n",
       "\n",
       "    .dataframe tbody tr th {\n",
       "        vertical-align: top;\n",
       "    }\n",
       "\n",
       "    .dataframe thead th {\n",
       "        text-align: right;\n",
       "    }\n",
       "</style>\n",
       "<table border=\"1\" class=\"dataframe\">\n",
       "  <thead>\n",
       "    <tr style=\"text-align: right;\">\n",
       "      <th></th>\n",
       "      <th>ID</th>\n",
       "      <th>length</th>\n",
       "      <th>popularity</th>\n",
       "      <th>acousticness</th>\n",
       "      <th>danceability</th>\n",
       "      <th>energy</th>\n",
       "      <th>key</th>\n",
       "      <th>instrumentalness</th>\n",
       "      <th>liveness</th>\n",
       "      <th>loudness</th>\n",
       "      <th>mode</th>\n",
       "      <th>speechiness</th>\n",
       "      <th>valence</th>\n",
       "      <th>tempo</th>\n",
       "      <th>loud_start</th>\n",
       "    </tr>\n",
       "  </thead>\n",
       "  <tbody>\n",
       "    <tr>\n",
       "      <th>0</th>\n",
       "      <td>5U3ln41nbhztweY70Mv5b3</td>\n",
       "      <td>179079</td>\n",
       "      <td>57</td>\n",
       "      <td>0.1700</td>\n",
       "      <td>0.573</td>\n",
       "      <td>0.722</td>\n",
       "      <td>2</td>\n",
       "      <td>0</td>\n",
       "      <td>0.1100</td>\n",
       "      <td>-5.020</td>\n",
       "      <td>1</td>\n",
       "      <td>0.2520</td>\n",
       "      <td>0.198</td>\n",
       "      <td>168.441</td>\n",
       "      <td>-18.286</td>\n",
       "    </tr>\n",
       "    <tr>\n",
       "      <th>1</th>\n",
       "      <td>5sGb7vB83MhpdZsx1tEIYH</td>\n",
       "      <td>139500</td>\n",
       "      <td>0</td>\n",
       "      <td>0.0365</td>\n",
       "      <td>0.880</td>\n",
       "      <td>0.730</td>\n",
       "      <td>6</td>\n",
       "      <td>6.33e-06</td>\n",
       "      <td>0.2320</td>\n",
       "      <td>-7.008</td>\n",
       "      <td>1</td>\n",
       "      <td>0.1810</td>\n",
       "      <td>0.860</td>\n",
       "      <td>159.957</td>\n",
       "      <td>-9.230</td>\n",
       "    </tr>\n",
       "    <tr>\n",
       "      <th>2</th>\n",
       "      <td>2A2Q4CYBcVvBF2OqgJ3OWX</td>\n",
       "      <td>192975</td>\n",
       "      <td>51</td>\n",
       "      <td>0.1200</td>\n",
       "      <td>0.846</td>\n",
       "      <td>0.467</td>\n",
       "      <td>2</td>\n",
       "      <td>7.6e-05</td>\n",
       "      <td>0.0803</td>\n",
       "      <td>-7.178</td>\n",
       "      <td>1</td>\n",
       "      <td>0.1730</td>\n",
       "      <td>0.367</td>\n",
       "      <td>129.016</td>\n",
       "      <td>-16.712</td>\n",
       "    </tr>\n",
       "    <tr>\n",
       "      <th>3</th>\n",
       "      <td>7Fg342AJtNsIDdwCfX0paC</td>\n",
       "      <td>185702</td>\n",
       "      <td>1</td>\n",
       "      <td>0.2390</td>\n",
       "      <td>0.460</td>\n",
       "      <td>0.567</td>\n",
       "      <td>9</td>\n",
       "      <td>6.04e-06</td>\n",
       "      <td>0.0934</td>\n",
       "      <td>-5.637</td>\n",
       "      <td>1</td>\n",
       "      <td>0.0515</td>\n",
       "      <td>0.189</td>\n",
       "      <td>168.419</td>\n",
       "      <td>-7.641</td>\n",
       "    </tr>\n",
       "    <tr>\n",
       "      <th>4</th>\n",
       "      <td>3lCbsHaN1wCxyDzcNN2x4N</td>\n",
       "      <td>182198</td>\n",
       "      <td>84</td>\n",
       "      <td>0.1850</td>\n",
       "      <td>0.720</td>\n",
       "      <td>0.613</td>\n",
       "      <td>1</td>\n",
       "      <td>0</td>\n",
       "      <td>0.1550</td>\n",
       "      <td>-6.899</td>\n",
       "      <td>0</td>\n",
       "      <td>0.0572</td>\n",
       "      <td>0.857</td>\n",
       "      <td>84.974</td>\n",
       "      <td>-13.644</td>\n",
       "    </tr>\n",
       "  </tbody>\n",
       "</table>\n",
       "</div>"
      ],
      "text/plain": [
       "                       ID  length popularity  acousticness  danceability  \\\n",
       "0  5U3ln41nbhztweY70Mv5b3  179079         57        0.1700         0.573   \n",
       "1  5sGb7vB83MhpdZsx1tEIYH  139500          0        0.0365         0.880   \n",
       "2  2A2Q4CYBcVvBF2OqgJ3OWX  192975         51        0.1200         0.846   \n",
       "3  7Fg342AJtNsIDdwCfX0paC  185702          1        0.2390         0.460   \n",
       "4  3lCbsHaN1wCxyDzcNN2x4N  182198         84        0.1850         0.720   \n",
       "\n",
       "   energy key instrumentalness  liveness  loudness mode  speechiness  valence  \\\n",
       "0   0.722   2                0    0.1100    -5.020    1       0.2520    0.198   \n",
       "1   0.730   6         6.33e-06    0.2320    -7.008    1       0.1810    0.860   \n",
       "2   0.467   2          7.6e-05    0.0803    -7.178    1       0.1730    0.367   \n",
       "3   0.567   9         6.04e-06    0.0934    -5.637    1       0.0515    0.189   \n",
       "4   0.613   1                0    0.1550    -6.899    0       0.0572    0.857   \n",
       "\n",
       "     tempo  loud_start  \n",
       "0  168.441     -18.286  \n",
       "1  159.957      -9.230  \n",
       "2  129.016     -16.712  \n",
       "3  168.419      -7.641  \n",
       "4   84.974     -13.644  "
      ]
     },
     "execution_count": 36,
     "metadata": {},
     "output_type": "execute_result"
    }
   ],
   "source": [
    "print(len(viral_features_df))\n",
    "\n",
    "# null values left\n",
    "print(viral_features_df.isnull().sum())\n",
    "viral_features_df.head()"
   ]
  },
  {
   "cell_type": "markdown",
   "metadata": {},
   "source": [
    "# Leftjoin \n",
    "left join the 13282 charts entries with the dataframe of the unique 5872 music features"
   ]
  },
  {
   "cell_type": "code",
   "execution_count": 40,
   "metadata": {},
   "outputs": [
    {
     "data": {
      "text/plain": [
       "Position             0\n",
       "Track Name          11\n",
       "Artist              12\n",
       "URL                  0\n",
       "filename             0\n",
       "ID                   0\n",
       "date                 0\n",
       "country              0\n",
       "group                0\n",
       "length               5\n",
       "popularity           5\n",
       "acousticness         5\n",
       "danceability         5\n",
       "energy               5\n",
       "key                  5\n",
       "instrumentalness     5\n",
       "liveness             5\n",
       "loudness             5\n",
       "mode                 5\n",
       "speechiness          5\n",
       "valence              5\n",
       "tempo                5\n",
       "loud_start           5\n",
       "dtype: int64"
      ]
     },
     "execution_count": 40,
     "metadata": {},
     "output_type": "execute_result"
    }
   ],
   "source": [
    "viral_df=viral_df_basic_top20.merge(viral_features_df, how='left',on='ID')\n"
   ]
  },
  {
   "cell_type": "code",
   "execution_count": 48,
   "metadata": {},
   "outputs": [
    {
     "data": {
      "text/plain": [
       "13277"
      ]
     },
     "execution_count": 48,
     "metadata": {},
     "output_type": "execute_result"
    }
   ],
   "source": [
    "#drop rows with missing music data - most notably Baccara \"Yes Sir I can boogey\"\n",
    "viral_df.dropna(axis=0, how='any', thresh=17, inplace=True)\n",
    "len(viral_df)"
   ]
  },
  {
   "cell_type": "markdown",
   "metadata": {},
   "source": [
    "# EXPORT TO CSV\n",
    "Analysis will happen in jupyter notebook 'analysis'"
   ]
  },
  {
   "cell_type": "code",
   "execution_count": null,
   "metadata": {},
   "outputs": [],
   "source": [
    "viral_df.rename(columns={'length':'duration_ms'})"
   ]
  },
  {
   "cell_type": "code",
   "execution_count": 49,
   "metadata": {},
   "outputs": [],
   "source": [
    "viral_df.to_csv(r'data/analysis/viral_charts_songs_2017-2020.csv', index = False)"
   ]
  },
  {
   "cell_type": "code",
   "execution_count": null,
   "metadata": {},
   "outputs": [],
   "source": []
  },
  {
   "cell_type": "code",
   "execution_count": 398,
   "metadata": {},
   "outputs": [],
   "source": [
    "###########################################"
   ]
  }
 ],
 "metadata": {
  "kernelspec": {
   "display_name": "Python 3",
   "language": "python",
   "name": "python3"
  },
  "language_info": {
   "codemirror_mode": {
    "name": "ipython",
    "version": 3
   },
   "file_extension": ".py",
   "mimetype": "text/x-python",
   "name": "python",
   "nbconvert_exporter": "python",
   "pygments_lexer": "ipython3",
   "version": "3.8.5"
  }
 },
 "nbformat": 4,
 "nbformat_minor": 4
}
